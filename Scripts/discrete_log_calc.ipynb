{
 "cells": [
  {
   "cell_type": "code",
   "execution_count": 11,
   "id": "d40b6fa8",
   "metadata": {},
   "outputs": [
    {
     "name": "stdout",
     "output_type": "stream",
     "text": [
      "DLOG yeilds a = 121029226\n",
      "The DLOG took 0.010173559188842773 seconds.\n",
      "The shared key is: 3122549640\n"
     ]
    }
   ],
   "source": [
    "import time\n",
    "\n",
    "g = 4\n",
    "q = 4294967681\n",
    "p = 2*q+1\n",
    "A = Mod(5104411285, p)\n",
    "B = Mod(7620748646, p)\n",
    "\n",
    "t = time.time()\n",
    "a = A.log(g)\n",
    "print(f\"DLOG yeilds a = {a}\")\n",
    "print(f\"The DLOG took {time.time()-t} seconds.\")\n",
    "\n",
    "print(f\"The shared key is: {pow(B,a,p)}\")"
   ]
  },
  {
   "cell_type": "code",
   "execution_count": 15,
   "id": "6d81368a",
   "metadata": {},
   "outputs": [
    {
     "name": "stdout",
     "output_type": "stream",
     "text": [
      "DLOG yeilds a = 17913846143021880100\n",
      "The DLOG took 0.13199949264526367 seconds.\n",
      "The shared key is: 10647114428957721787\n"
     ]
    }
   ],
   "source": [
    "import time\n",
    "\n",
    "g = 4\n",
    "q = 18446744073709552109\n",
    "p = 2*q+1\n",
    "A = Mod(17485644247020728566,p)\n",
    "B = Mod(17485644247020728566,p)\n",
    "\n",
    "t = time.time()\n",
    "a = A.log(g)\n",
    "print(f\"DLOG yeilds a = {a}\")\n",
    "print(f\"The DLOG took {time.time()-t} seconds.\")\n",
    "\n",
    "print(f\"The shared key is: {pow(B,a,p)}\")"
   ]
  },
  {
   "cell_type": "code",
   "execution_count": 17,
   "id": "5936411d",
   "metadata": {},
   "outputs": [
    {
     "name": "stdout",
     "output_type": "stream",
     "text": [
      "DLOG yeilds a = 63361436478061474206645201191086014926\n",
      "The DLOG took 65.48608613014221 seconds.\n",
      "The shared key is: 214488715430712623062490308139976786604\n"
     ]
    }
   ],
   "source": [
    "import time\n",
    "\n",
    "q = 340282366920938463463374607431768219863\n",
    "p = 2*q+1\n",
    "g = Mod(4,p)\n",
    "A = Mod(15855669586157245378211095347605706305,p)\n",
    "B = Mod(643791185530305885858740134964520672205,p)\n",
    "\n",
    "t = time.time()\n",
    "a = A.log(g)\n",
    "print(f\"DLOG yeilds a = {a}\")\n",
    "print(f\"The DLOG took {time.time()-t} seconds.\")\n",
    "\n",
    "print(f\"The shared key is: {pow(B,a,p)}\")\n"
   ]
  }
 ],
 "metadata": {
  "kernelspec": {
   "display_name": "SageMath 10.7",
   "language": "sage",
   "name": "sagemath"
  },
  "language_info": {
   "codemirror_mode": {
    "name": "ipython",
    "version": 3
   },
   "file_extension": ".py",
   "mimetype": "text/x-python",
   "name": "sage",
   "nbconvert_exporter": "python",
   "pygments_lexer": "ipython3",
   "version": "3.11.13"
  }
 },
 "nbformat": 4,
 "nbformat_minor": 5
}
