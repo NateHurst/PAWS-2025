{
 "cells": [
  {
   "cell_type": "code",
   "execution_count": 1,
   "id": "1306e6ad",
   "metadata": {},
   "outputs": [
    {
     "name": "stdout",
     "output_type": "stream",
     "text": [
      "DLOG found: 121029226\n",
      "Total time taken: 0.028296947479248047 seconds\n"
     ]
    }
   ],
   "source": [
    "import time\n",
    "\n",
    "q = 4294967681\n",
    "p = 2*q+1\n",
    "g = 4\n",
    "A = 5104411285\n",
    "\n",
    "t = time.time()\n",
    "memory = math.isqrt(q)+1\n",
    "m = q // memory\n",
    "\n",
    "baby_steps = {}\n",
    "\n",
    "baby = 1\n",
    "for i in range(m):\n",
    "    baby_steps[baby] = i\n",
    "    baby = (baby * g) % p\n",
    "    \n",
    "result = A\n",
    "inv = pow(g,m,p).inverse()\n",
    "for j in range(m):\n",
    "    if result in baby_steps:\n",
    "        print(f\"DLOG found: {m*(j)+baby_steps[result]}\")\n",
    "        break\n",
    "    result = (result * inv) % p\n",
    "    \n",
    "print(f\"Total time taken: {time.time()-t} seconds\")"
   ]
  }
 ],
 "metadata": {
  "kernelspec": {
   "display_name": "SageMath 10.7",
   "language": "sage",
   "name": "sagemath"
  },
  "language_info": {
   "codemirror_mode": {
    "name": "ipython",
    "version": 3
   },
   "file_extension": ".py",
   "mimetype": "text/x-python",
   "name": "sage",
   "nbconvert_exporter": "python",
   "pygments_lexer": "ipython3",
   "version": "3.11.13"
  }
 },
 "nbformat": 4,
 "nbformat_minor": 5
}
