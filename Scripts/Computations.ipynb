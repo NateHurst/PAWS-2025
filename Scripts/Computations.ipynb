{
 "cells": [
  {
   "cell_type": "code",
   "execution_count": 19,
   "id": "8017480f",
   "metadata": {},
   "outputs": [
    {
     "name": "stdout",
     "output_type": "stream",
     "text": [
      "(1, 16, 28, 23)\n"
     ]
    }
   ],
   "source": [
    "Z70 = IntegerModRing(70)\n",
    "\n",
    "A = Matrix(Z70, [\n",
    "    [1, 1, 0, 1],  \n",
    "    [0, 2, 1, 1],  \n",
    "    [0, 1, 1, 1],  \n",
    "    [3, 0, 1, 1],  \n",
    "])\n",
    "\n",
    "b = vector(Z70, [5, 13, 32, 19])\n",
    "\n",
    "x = A.solve_right(b)\n",
    "print(x % 35)"
   ]
  },
  {
   "cell_type": "code",
   "execution_count": null,
   "id": "3981b20c",
   "metadata": {},
   "outputs": [
    {
     "name": "stdout",
     "output_type": "stream",
     "text": [
      "8589935363\n",
      "8522368110\n"
     ]
    }
   ],
   "source": [
    "p = 2*4294967681+1\n",
    "print(p)\n",
    "g = 4\n",
    "\n",
    "print(pow(g, 1297458783, p))"
   ]
  }
 ],
 "metadata": {
  "kernelspec": {
   "display_name": "SageMath 10.7",
   "language": "sage",
   "name": "sagemath"
  },
  "language_info": {
   "codemirror_mode": {
    "name": "ipython",
    "version": 3
   },
   "file_extension": ".py",
   "mimetype": "text/x-python",
   "name": "sage",
   "nbconvert_exporter": "python",
   "pygments_lexer": "ipython3",
   "version": "3.11.13"
  }
 },
 "nbformat": 4,
 "nbformat_minor": 5
}
