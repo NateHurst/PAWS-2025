{
 "cells": [
  {
   "cell_type": "code",
   "execution_count": 5,
   "id": "f418c6d3",
   "metadata": {
    "vscode": {
     "languageId": "sage"
    }
   },
   "outputs": [
    {
     "name": "stdout",
     "output_type": "stream",
     "text": [
      "a = 121029226\n",
      "Total time taken: 0.5771536827087402\n"
     ]
    }
   ],
   "source": [
    "import time\n",
    "\n",
    "def is_B_smooth(n, B):\n",
    "    for p in B:\n",
    "        while n % p == 0:\n",
    "            n = n // p\n",
    "        if n == 1:\n",
    "            return True\n",
    "    return False\n",
    "\n",
    "def factor_to_row(n, B):\n",
    "    factorization = []\n",
    "    for p in B:\n",
    "        while n % p == 0:\n",
    "            n = n // p\n",
    "            factorization.append(p)\n",
    "    primes = []\n",
    "    for p in B:\n",
    "        count = factorization.count(p)\n",
    "        primes.append(count)\n",
    "    return primes\n",
    "\n",
    "\n",
    "q = 4294967681\n",
    "p = 2*q+1\n",
    "g = 4\n",
    "A = 5104411285\n",
    "h = pow(A,-1,p)\n",
    "\n",
    "B = math.ceil(pow(math.e,0.5*math.sqrt(math.log(p)*math.log(math.log(p)))))\n",
    "F = GF(p)\n",
    "R = IntegerModRing(p-1)\n",
    "\n",
    "t = time.time()\n",
    "\n",
    "factor_base = list(primes(B))\n",
    "\n",
    "while True:\n",
    "    M = Matrix(R,0,len(factor_base)+1)\n",
    "    b = []\n",
    "    rows = 0  \n",
    "\n",
    "    while rows < len(factor_base)+1:\n",
    "        e = F.random_element()\n",
    "        z = pow(g,e,p)\n",
    "        z = (z*h) % p\n",
    "        if is_B_smooth(z, factor_base) == False:\n",
    "            continue\n",
    "        fact = factor_to_row(z, factor_base)\n",
    "        fact.append(1)\n",
    "        fact = vector(R,fact)\n",
    "        if fact not in M:\n",
    "            M = M.stack(fact)\n",
    "            b.append(e)\n",
    "            rows += 1\n",
    "\n",
    "    b = vector(R, b)\n",
    "\n",
    "    try:\n",
    "        solution = M.solve_right(b)\n",
    "        if pow(g,solution[-1] % ((p-1) // 2),p) == A:\n",
    "            print(f\"a = {solution[-1] % ((p-1) // 2)}\")\n",
    "            break\n",
    "        else:\n",
    "            continue\n",
    "    except ValueError:\n",
    "        continue\n",
    "\n",
    "print(f\"Total time taken: {time.time()-t}\")"
   ]
  }
 ],
 "metadata": {
  "kernelspec": {
   "display_name": "SageMath 10.7",
   "language": "sage",
   "name": "sagemath"
  },
  "language_info": {
   "codemirror_mode": {
    "name": "ipython",
    "version": 3
   },
   "file_extension": ".py",
   "mimetype": "text/x-python",
   "name": "python",
   "nbconvert_exporter": "python",
   "pygments_lexer": "ipython3",
   "version": "3.11.13"
  }
 },
 "nbformat": 4,
 "nbformat_minor": 5
}
