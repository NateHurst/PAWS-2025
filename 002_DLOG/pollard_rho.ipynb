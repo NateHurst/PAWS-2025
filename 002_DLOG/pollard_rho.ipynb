{
 "cells": [
  {
   "cell_type": "code",
   "execution_count": null,
   "id": "1306e6ad",
   "metadata": {
    "vscode": {
     "languageId": "sage"
    }
   },
   "outputs": [
    {
     "name": "stdout",
     "output_type": "stream",
     "text": [
      "DLOG found: 121029226\n",
      "Total time taken: 0.1524829864501953\n"
     ]
    }
   ],
   "source": [
    "import time\n",
    "\n",
    "q = 4294967681\n",
    "p = 2*q+1\n",
    "g = 4\n",
    "A = 5104411285\n",
    "\n",
    "\n",
    "def f(x,k,l):\n",
    "    if x % 3 == 1:\n",
    "        return ((x * A) % p,k,(l+1) % q)\n",
    "    elif x % 3 == 2:\n",
    "        return ((x*x) % p, (2*k) % q, (2*l) % q)\n",
    "    else:\n",
    "        return ((x*g) % p, (k+1) % q, l)\n",
    "\n",
    "t = time.time()\n",
    "x = (1,0,0)\n",
    "y = (1,0,0)\n",
    "while True:\n",
    "    x = f(*x)\n",
    "    y = f(*y)\n",
    "    y = f(*y)\n",
    "    if x[0] == y[0]:\n",
    "        print(f\"DLOG found: {((x[1]- y[1])*(pow(y[2]-x[2],-1,q)) % q)}\")    \n",
    "        break\n",
    "    \n",
    "print(f\"Total time taken: {time.time()-t}\")"
   ]
  }
 ],
 "metadata": {
  "kernelspec": {
   "display_name": "SageMath 10.7",
   "language": "sage",
   "name": "sagemath"
  },
  "language_info": {
   "codemirror_mode": {
    "name": "ipython",
    "version": 3
   },
   "file_extension": ".py",
   "mimetype": "text/x-python",
   "name": "python",
   "nbconvert_exporter": "python",
   "pygments_lexer": "ipython3",
   "version": "3.11.13"
  }
 },
 "nbformat": 4,
 "nbformat_minor": 5
}
