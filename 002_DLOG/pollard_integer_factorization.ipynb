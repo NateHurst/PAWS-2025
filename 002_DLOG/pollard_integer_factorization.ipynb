{
 "cells": [
  {
   "cell_type": "code",
   "execution_count": 26,
   "id": "463e4b29",
   "metadata": {},
   "outputs": [
    {
     "name": "stdout",
     "output_type": "stream",
     "text": [
      "1203891274712856163268165812686856816851865681268516256818651 = 17*405701*174554989528343774945844036210216364333783584936358703\n",
      "Total time taken: 0.02507805824279785\n"
     ]
    }
   ],
   "source": [
    "import time\n",
    "import random\n",
    "\n",
    "def gcd(a, b):\n",
    "    while b != 0:\n",
    "        a, b = b, a % b\n",
    "    return a\n",
    "\n",
    "def f(x,n,c):\n",
    "    return ((x*x + c) % n)\n",
    "\n",
    "def factor(n):\n",
    "    primes = []\n",
    "    composite_factors = [n]\n",
    "    if is_prime(n):\n",
    "        primes.append(n)\n",
    "        n = 1\n",
    "        composite_factors = []\n",
    "    while composite_factors != []:\n",
    "        num = composite_factors.pop()\n",
    "        if num < 0:\n",
    "            num = -num\n",
    "            primes.append(-1)\n",
    "        if num == 0:\n",
    "            primes.append(0)\n",
    "            break\n",
    "        if num < 10:\n",
    "            for i in range(2,8):\n",
    "                while num % i == 0:\n",
    "                    primes.append(i)\n",
    "                    num = num // i\n",
    "            continue\n",
    "        c = random.randint(1,num-1)\n",
    "        x = 1\n",
    "        y = 1\n",
    "        g = 1\n",
    "        while g == 1:\n",
    "            x = f(x,num,c)\n",
    "            y = f(y,num,c)\n",
    "            y = f(y,num,c)\n",
    "            g = gcd(abs(x-y),num)\n",
    "        if is_prime(g):\n",
    "            primes.append(g)\n",
    "        else:\n",
    "            composite_factors.append(g)\n",
    "        res = num // g\n",
    "        if is_prime(res) == True:\n",
    "            primes.append(res)\n",
    "        elif res == 1:\n",
    "            continue\n",
    "        else:\n",
    "            composite_factors.append(res)\n",
    "    return sorted(primes)\n",
    "\n",
    "t = time.time()   \n",
    "\n",
    "n = 1203891274712856163268165812686856816851865681268516256818651\n",
    "primes = factor(n)\n",
    "\n",
    "print(f\"{n} = {primes[0]}\", end=\"\")\n",
    "for i in range(1,len(primes)):\n",
    "    print(f\"*{primes[i]}\", end=\"\")\n",
    "print(\"\")\n",
    "\n",
    "print(f\"Total time taken: {time.time()-t}\")\n"
   ]
  }
 ],
 "metadata": {
  "kernelspec": {
   "display_name": "SageMath 10.7",
   "language": "sage",
   "name": "sagemath"
  },
  "language_info": {
   "codemirror_mode": {
    "name": "ipython",
    "version": 3
   },
   "file_extension": ".py",
   "mimetype": "text/x-python",
   "name": "sage",
   "nbconvert_exporter": "python",
   "pygments_lexer": "ipython3",
   "version": "3.11.13"
  }
 },
 "nbformat": 4,
 "nbformat_minor": 5
}
