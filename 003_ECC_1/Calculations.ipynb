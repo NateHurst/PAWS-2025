{
 "cells": [
  {
   "cell_type": "code",
   "execution_count": 108,
   "id": "5e4b38c8",
   "metadata": {
    "vscode": {
     "languageId": "sage"
    }
   },
   "outputs": [
    {
     "name": "stdout",
     "output_type": "stream",
     "text": [
      "Additive abelian group isomorphic to Z/18 embedded in Abelian group of points on Elliptic Curve defined by y^2 = x^3 + 3*x + 1 over Finite Field of size 11\n",
      "(2 : 9 : 1)\n",
      "(0 : 1 : 1)\n",
      "(8 : 8 : 1)\n",
      "(3 : 9 : 1)\n",
      "(5 : 8 : 1)\n",
      "(6 : 2 : 1)\n",
      "(9 : 8 : 1)\n",
      "(4 : 0 : 1)\n",
      "(9 : 3 : 1)\n",
      "(6 : 9 : 1)\n",
      "(5 : 3 : 1)\n",
      "(3 : 2 : 1)\n",
      "(8 : 3 : 1)\n",
      "(0 : 10 : 1)\n",
      "(2 : 2 : 1)\n",
      "(1 : 7 : 1)\n",
      "(0 : 1 : 0)\n"
     ]
    }
   ],
   "source": [
    "E = EllipticCurve(GF(11),[3,1])\n",
    "\n",
    "P= E([1,4])\n",
    "\n",
    "print(E.abelian_group())\n",
    "\n",
    "\n",
    "\n"
   ]
  },
  {
   "cell_type": "code",
   "execution_count": null,
   "id": "f3dc853d",
   "metadata": {
    "vscode": {
     "languageId": "sage"
    }
   },
   "outputs": [],
   "source": [
    "(1,4)\n",
    "(0,0)\n",
    "(1,3)\n",
    "\n",
    "(3,4)\n",
    "(1,3)\n",
    "(0,0)\n",
    "(5,5)\n",
    "(1,4)\n",
    "\n",
    "\n",
    "\n"
   ]
  },
  {
   "cell_type": "code",
   "execution_count": 81,
   "id": "d2e4520f",
   "metadata": {
    "vscode": {
     "languageId": "sage"
    }
   },
   "outputs": [
    {
     "name": "stdout",
     "output_type": "stream",
     "text": [
      "5.36675041928920\n",
      "18.6332495807108\n"
     ]
    }
   ],
   "source": [
    "p=11\n",
    "print(float(p+1) - 2.0*sqrt(float(p)))\n",
    "print(float(p+1) + 2.0*sqrt(float(p)))"
   ]
  }
 ],
 "metadata": {
  "kernelspec": {
   "display_name": "SageMath 10.7",
   "language": "sage",
   "name": "sagemath"
  },
  "language_info": {
   "codemirror_mode": {
    "name": "ipython",
    "version": 3
   },
   "file_extension": ".py",
   "mimetype": "text/x-python",
   "name": "python",
   "nbconvert_exporter": "python",
   "pygments_lexer": "ipython3",
   "version": "3.11.13"
  }
 },
 "nbformat": 4,
 "nbformat_minor": 5
}
