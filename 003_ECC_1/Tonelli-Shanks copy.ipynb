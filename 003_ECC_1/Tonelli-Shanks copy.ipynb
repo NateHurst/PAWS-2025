{
 "cells": [
  {
   "cell_type": "code",
   "execution_count": 116,
   "id": "b6167972",
   "metadata": {
    "vscode": {
     "languageId": "sage"
    }
   },
   "outputs": [
    {
     "name": "stdout",
     "output_type": "stream",
     "text": [
      "4^2 = 5 (mod 11)\n"
     ]
    }
   ],
   "source": [
    "def find_non_residue(p):\n",
    "    for z in range(2,p):\n",
    "        if pow(z, (p-1)//2 ,p) == p-1:\n",
    "            return z\n",
    "            break\n",
    "\n",
    "def find_sqrt(n,p):\n",
    "    if pow(n, (p-1)//2, p) != 1:\n",
    "        return 0\n",
    "    if p % 4 == 3:\n",
    "        return pow(n,(p+1)//4,p)\n",
    "    else:\n",
    "        r = p-1\n",
    "        S = 0\n",
    "        while r % 2 == 0:\n",
    "            r = r // 2\n",
    "            S += 1\n",
    "        z = find_non_residue(p)\n",
    "        z = pow(z, r,p)\n",
    "        t = pow(n,r, p)\n",
    "        R = pow(n, (r+1)//2,p)\n",
    "        while t != 1:\n",
    "            i = 0\n",
    "            temp = t\n",
    "            while temp != 1:\n",
    "                temp = pow(temp, 2, p)\n",
    "                i += 1\n",
    "                if i == S:\n",
    "                    return 0\n",
    "            b = pow(z, 2**(S-i-1),p)\n",
    "            S = i\n",
    "            z = pow(b,2,p)\n",
    "            t = (t*z) % p\n",
    "            R = (R*b) % p\n",
    "        return R\n",
    "            \n",
    "\n",
    "\n",
    "\n",
    "p = 11\n",
    "n = 5\n",
    "\n",
    "a = find_sqrt(n,p)\n",
    "\n",
    "if pow(a,2,p) == n:\n",
    "    print(f\"{a}^2 = {n} (mod {p})\")\n",
    "else:\n",
    "    print(f\"{n} is not a quadratic residue.\")\n"
   ]
  }
 ],
 "metadata": {
  "kernelspec": {
   "display_name": "SageMath 10.7",
   "language": "sage",
   "name": "sagemath"
  },
  "language_info": {
   "codemirror_mode": {
    "name": "ipython",
    "version": 3
   },
   "file_extension": ".py",
   "mimetype": "text/x-python",
   "name": "python",
   "nbconvert_exporter": "python",
   "pygments_lexer": "ipython3",
   "version": "3.11.13"
  }
 },
 "nbformat": 4,
 "nbformat_minor": 5
}
